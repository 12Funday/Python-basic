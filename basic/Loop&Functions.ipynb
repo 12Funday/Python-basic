{
  "nbformat": 4,
  "nbformat_minor": 0,
  "metadata": {
    "colab": {
      "name": "Loop&Functions.ipynb",
      "provenance": [],
      "collapsed_sections": [],
      "authorship_tag": "ABX9TyNiQCF5XfYjrhgr78Q1F7hg",
      "include_colab_link": true
    },
    "kernelspec": {
      "name": "python3",
      "display_name": "Python 3"
    },
    "language_info": {
      "name": "python"
    }
  },
  "cells": [
    {
      "cell_type": "markdown",
      "metadata": {
        "id": "view-in-github",
        "colab_type": "text"
      },
      "source": [
        "<a href=\"https://colab.research.google.com/github/12Funday/Python-basic/blob/main/basic/Loop%26Functions.ipynb\" target=\"_parent\"><img src=\"https://colab.research.google.com/assets/colab-badge.svg\" alt=\"Open In Colab\"/></a>"
      ]
    },
    {
      "cell_type": "markdown",
      "source": [
        "# Loops & Functions\n",
        "\n",
        "source : https://www.tomasbeuzen.com/python-programming-for-data-science/practice-exercises/chapter2-loops-functions-practice.html"
      ],
      "metadata": {
        "id": "9HEn7XRIVrV1"
      }
    },
    {
      "cell_type": "markdown",
      "source": [
        "## Exercises"
      ],
      "metadata": {
        "id": "Tl1hpoohV_hP"
      }
    },
    {
      "cell_type": "markdown",
      "source": [
        "1. Create a function website() that grabs the website domain from a url string. For example, if your function is passed \"www.google.com\", it should return \"google\"."
      ],
      "metadata": {
        "id": "zV66gpcmWC2w"
      }
    },
    {
      "cell_type": "code",
      "execution_count": 1,
      "metadata": {
        "colab": {
          "base_uri": "https://localhost:8080/"
        },
        "id": "fm-TxfIDVQ-g",
        "outputId": "14271bcf-ebd8-49e9-8fa5-054b543a906d"
      },
      "outputs": [
        {
          "output_type": "stream",
          "name": "stdout",
          "text": [
            "google\n"
          ]
        }
      ],
      "source": [
        "def website(s):\n",
        "  return s.split(\".\")[1]\n",
        "\n",
        "print(website(\"www.google.com\"))"
      ]
    },
    {
      "cell_type": "markdown",
      "source": [
        "2. Create a function divisible(a, b) that accepts two integers (a and b) and returns True if a is divisble by b without a remainder. For example, divisible(10, 3) should return False, while divisible(6, 3) should return True."
      ],
      "metadata": {
        "id": "PhiYcMACWloy"
      }
    },
    {
      "cell_type": "code",
      "source": [
        "def divisible(a,b):\n",
        "  return True if a % b == 0 else False\n",
        "\n",
        "print(divisible(10,3))\n",
        "print(divisible(6,3))"
      ],
      "metadata": {
        "colab": {
          "base_uri": "https://localhost:8080/"
        },
        "id": "-GzAXerJWXhb",
        "outputId": "dc5b8073-fae5-4a7d-8b10-54c37cca5619"
      },
      "execution_count": 2,
      "outputs": [
        {
          "output_type": "stream",
          "name": "stdout",
          "text": [
            "False\n",
            "True\n"
          ]
        }
      ]
    },
    {
      "cell_type": "markdown",
      "source": [
        "3. Use list comprehension to square every number in the following list of numbers."
      ],
      "metadata": {
        "id": "Bfysr3CgXCLQ"
      }
    },
    {
      "cell_type": "code",
      "source": [
        "l = [1,2,3,4,5,6,7,8,9]\n",
        "\n",
        "new_l = [x ** 2 for x in l]\n",
        "print(new_l)"
      ],
      "metadata": {
        "colab": {
          "base_uri": "https://localhost:8080/"
        },
        "id": "SGNqmgc7W9Er",
        "outputId": "ff8e34e8-baac-47bb-bfb9-82e4ae711b12"
      },
      "execution_count": 3,
      "outputs": [
        {
          "output_type": "stream",
          "name": "stdout",
          "text": [
            "[1, 4, 9, 16, 25, 36, 49, 64, 81]\n"
          ]
        }
      ]
    },
    {
      "cell_type": "markdown",
      "source": [
        "4. For the following list of names, write a list comprehension that creates a list of only words that start with a capital letter (hint: str.isupper())."
      ],
      "metadata": {
        "id": "EtMjoZrcXcY3"
      }
    },
    {
      "cell_type": "code",
      "source": [
        "names = ['Steve Irwin', 'koala', 'kangaroo', 'Australia', 'Sydney', 'desert']\n",
        "\n",
        "new_names = [ x for x in names if x[0].isupper()]\n",
        "print(new_names)"
      ],
      "metadata": {
        "colab": {
          "base_uri": "https://localhost:8080/"
        },
        "id": "wG3PMxtKXPts",
        "outputId": "f7658747-8b48-42b0-d538-8f00f127e389"
      },
      "execution_count": 4,
      "outputs": [
        {
          "output_type": "stream",
          "name": "stdout",
          "text": [
            "['Steve Irwin', 'Australia', 'Sydney']\n"
          ]
        }
      ]
    },
    {
      "cell_type": "markdown",
      "source": [
        "5. For the following list of keys and vals use dictionary comprehension to create a dictionary of the form {'key-0': 0, 'key-1': 1, etc} (hint: zip() can help you combine two lists into on object to be used for comprehension/looping)."
      ],
      "metadata": {
        "id": "NAIiyQsrY2PN"
      }
    },
    {
      "cell_type": "code",
      "source": [
        "keys = [f\"key-{k}\" for k in range(10)]\n",
        "vals = range(10)\n",
        "\n",
        "new_dict = {k : v for k, v in zip(keys,vals)}\n",
        "print(new_dict)"
      ],
      "metadata": {
        "colab": {
          "base_uri": "https://localhost:8080/"
        },
        "id": "4YhXD1Z-Y_TG",
        "outputId": "6588b156-d718-44a6-cb25-6166942948c1"
      },
      "execution_count": 8,
      "outputs": [
        {
          "output_type": "stream",
          "name": "stdout",
          "text": [
            "{'key-0': 0, 'key-1': 1, 'key-2': 2, 'key-3': 3, 'key-4': 4, 'key-5': 5, 'key-6': 6, 'key-7': 7, 'key-8': 8, 'key-9': 9}\n"
          ]
        }
      ]
    },
    {
      "cell_type": "markdown",
      "source": [
        "6. This question is a little harder. Create a generator function called listgen(n) that yields numbers from 0 to n, in batches of lists of maximum 10 numbers at a time. For example, your function should behave as follows:\n",
        "\n",
        "```\n",
        "g = listgen(100)\n",
        "next(g)\n",
        "[0, 1, 2, 3, 4, 5, 6, 7, 8, 9]\n",
        "next(g)\n",
        "[10, 11, 12, 13, 14, 15, 16, 17, 18, 19]\n",
        "next(g)\n",
        "[20, 21, 22, 23, 24, 25, 26, 27, 28, 29]\n",
        "etc.\n",
        "\n",
        "g = listgen(5)\n",
        "next(g)\n",
        "```"
      ],
      "metadata": {
        "id": "kuEYebAIa06u"
      }
    },
    {
      "cell_type": "code",
      "source": [
        "def listgen(n):\n",
        "  i = 0 # i as counter\n",
        "  numbers = list(range(n)) # generate list from input n\n",
        "  while i <= n // 10:\n",
        "    yield numbers[10*i:10*(i+1)]\n",
        "    i += 1"
      ],
      "metadata": {
        "id": "4KuxSecDZU4L"
      },
      "execution_count": 15,
      "outputs": []
    },
    {
      "cell_type": "code",
      "source": [
        "g = listgen(5)"
      ],
      "metadata": {
        "id": "MgvPnEw9clPz"
      },
      "execution_count": 13,
      "outputs": []
    },
    {
      "cell_type": "code",
      "source": [
        "next(g)"
      ],
      "metadata": {
        "colab": {
          "base_uri": "https://localhost:8080/"
        },
        "id": "p8gHOkLScrms",
        "outputId": "e0723f22-1bcb-4d0a-8073-b6b6cca58f19"
      },
      "execution_count": 14,
      "outputs": [
        {
          "output_type": "execute_result",
          "data": {
            "text/plain": [
              "[0, 1, 2, 3, 4]"
            ]
          },
          "metadata": {},
          "execution_count": 14
        }
      ]
    },
    {
      "cell_type": "markdown",
      "source": [
        "7. Write a try/except to catch the error generated from the following code and print “I caught you!”. Make sure you catch the specific error being caused, this is typically better practice than just catching all errors!"
      ],
      "metadata": {
        "id": "g5-ERETAe-zS"
      }
    },
    {
      "cell_type": "code",
      "source": [
        "5/0"
      ],
      "metadata": {
        "colab": {
          "base_uri": "https://localhost:8080/",
          "height": 165
        },
        "id": "kXApmCwOcs3q",
        "outputId": "cf654590-4609-47e6-8b5d-8e59984ed28d"
      },
      "execution_count": 16,
      "outputs": [
        {
          "output_type": "error",
          "ename": "ZeroDivisionError",
          "evalue": "ignored",
          "traceback": [
            "\u001b[0;31m---------------------------------------------------------------------------\u001b[0m",
            "\u001b[0;31mZeroDivisionError\u001b[0m                         Traceback (most recent call last)",
            "\u001b[0;32m<ipython-input-16-0106664d39e8>\u001b[0m in \u001b[0;36m<module>\u001b[0;34m()\u001b[0m\n\u001b[0;32m----> 1\u001b[0;31m \u001b[0;36m5\u001b[0m\u001b[0;34m/\u001b[0m\u001b[0;36m0\u001b[0m\u001b[0;34m\u001b[0m\u001b[0;34m\u001b[0m\u001b[0m\n\u001b[0m",
            "\u001b[0;31mZeroDivisionError\u001b[0m: division by zero"
          ]
        }
      ]
    },
    {
      "cell_type": "code",
      "source": [
        "try:\n",
        "  5/0\n",
        "except ZeroDivisionError:\n",
        "  print(\"I caught you\")"
      ],
      "metadata": {
        "colab": {
          "base_uri": "https://localhost:8080/"
        },
        "id": "SA1yjhpffXcs",
        "outputId": "aaef161e-bc64-4a9f-f1ae-c07e5f242310"
      },
      "execution_count": 18,
      "outputs": [
        {
          "output_type": "stream",
          "name": "stdout",
          "text": [
            "I caught you\n"
          ]
        }
      ]
    },
    {
      "cell_type": "markdown",
      "source": [
        "8. Create a function lucky_sum() that takes all the integers a user enters and returns their sum. However, if one of the values is 13 then it does not count towards the sum, nor do any values to its right.\n",
        "\n",
        "For example, your function should behave as follows:\n",
        "\n",
        "```\n",
        "lucky_sum(1, 2, 3, 4)\n",
        "10\n",
        "\n",
        "lucky_sum(1, 13, 3, 4)\n",
        "1\n",
        "\n",
        "lucky_sum(13)\n",
        "0\n",
        "```"
      ],
      "metadata": {
        "id": "r2KX-v9Si1bD"
      }
    },
    {
      "cell_type": "code",
      "source": [
        "def lucky_sum(*args):\n",
        "  if 13 in args:\n",
        "    return sum(args[:args.index(13)])\n",
        "  return sum(args)\n",
        " \n",
        "\n",
        "print(lucky_sum(1, 2, 3, 4))\n",
        "print(lucky_sum(1, 13, 3, 4))\n",
        "print(lucky_sum(13))"
      ],
      "metadata": {
        "colab": {
          "base_uri": "https://localhost:8080/"
        },
        "id": "hOtM7i87iliN",
        "outputId": "d02fa09b-8d2c-4e44-bfcd-97204852752c"
      },
      "execution_count": 27,
      "outputs": [
        {
          "output_type": "stream",
          "name": "stdout",
          "text": [
            "10\n",
            "1\n",
            "0\n"
          ]
        }
      ]
    },
    {
      "cell_type": "code",
      "source": [
        ""
      ],
      "metadata": {
        "id": "586ycMhwlXYH"
      },
      "execution_count": null,
      "outputs": []
    }
  ]
}