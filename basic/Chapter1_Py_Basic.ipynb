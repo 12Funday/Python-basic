{
  "nbformat": 4,
  "nbformat_minor": 0,
  "metadata": {
    "colab": {
      "name": "Chapter1_Py_Basic.ipynb",
      "provenance": [],
      "authorship_tag": "ABX9TyNuQrFyEJDBfjYm1yy++Mzu",
      "include_colab_link": true
    },
    "kernelspec": {
      "name": "python3",
      "display_name": "Python 3"
    },
    "language_info": {
      "name": "python"
    }
  },
  "cells": [
    {
      "cell_type": "markdown",
      "metadata": {
        "id": "view-in-github",
        "colab_type": "text"
      },
      "source": [
        "<a href=\"https://colab.research.google.com/github/12Funday/Python-basic/blob/main/Chapter1_Py_Basic.ipynb\" target=\"_parent\"><img src=\"https://colab.research.google.com/assets/colab-badge.svg\" alt=\"Open In Colab\"/></a>"
      ]
    },
    {
      "cell_type": "markdown",
      "source": [
        "# Exercise Chapter 1 Python Basic\n",
        "\n",
        "source : https://www.tomasbeuzen.com/python-programming-for-data-science/practice-exercises/chapter1-basics-practice.html"
      ],
      "metadata": {
        "id": "zVrDmQMA9OD0"
      }
    },
    {
      "cell_type": "markdown",
      "source": [
        "1. What is the power of 5?"
      ],
      "metadata": {
        "id": "ZMwhUPIV9oQQ"
      }
    },
    {
      "cell_type": "code",
      "execution_count": 1,
      "metadata": {
        "id": "8TjcTHw-hbzl",
        "colab": {
          "base_uri": "https://localhost:8080/"
        },
        "outputId": "31125a9f-b7c5-4dd0-ee34-c888f9ff331f"
      },
      "outputs": [
        {
          "output_type": "execute_result",
          "data": {
            "text/plain": [
              "3125"
            ]
          },
          "metadata": {},
          "execution_count": 1
        }
      ],
      "source": [
        "5 ** 5"
      ]
    },
    {
      "cell_type": "markdown",
      "source": [
        "2. What is the remainder from dividing 73 by 6?"
      ],
      "metadata": {
        "id": "tTonSCQJ-BDM"
      }
    },
    {
      "cell_type": "code",
      "source": [
        "73 % 6"
      ],
      "metadata": {
        "colab": {
          "base_uri": "https://localhost:8080/"
        },
        "id": "6P6yHe-C9vmm",
        "outputId": "77cac620-b872-487f-ee6f-a6f4336d9c0b"
      },
      "execution_count": 2,
      "outputs": [
        {
          "output_type": "execute_result",
          "data": {
            "text/plain": [
              "1"
            ]
          },
          "metadata": {},
          "execution_count": 2
        }
      ]
    },
    {
      "cell_type": "markdown",
      "source": [
        "3. How many times does the whole number 3 go into 123? What is the remainder of dividing 123 by 3?"
      ],
      "metadata": {
        "id": "o9WNaFx3-WEP"
      }
    },
    {
      "cell_type": "code",
      "source": [
        "123 // 3"
      ],
      "metadata": {
        "colab": {
          "base_uri": "https://localhost:8080/"
        },
        "id": "yCuOZxJF-StK",
        "outputId": "6c4ac6d7-1bff-4ee0-ffe0-cc03e92b764b"
      },
      "execution_count": 3,
      "outputs": [
        {
          "output_type": "execute_result",
          "data": {
            "text/plain": [
              "41"
            ]
          },
          "metadata": {},
          "execution_count": 3
        }
      ]
    },
    {
      "cell_type": "code",
      "source": [
        "123 % 3"
      ],
      "metadata": {
        "colab": {
          "base_uri": "https://localhost:8080/"
        },
        "id": "RWK0XFwZ-tlx",
        "outputId": "d0481d91-f3be-4725-9f0f-8ff3a01f338f"
      },
      "execution_count": 4,
      "outputs": [
        {
          "output_type": "execute_result",
          "data": {
            "text/plain": [
              "0"
            ]
          },
          "metadata": {},
          "execution_count": 4
        }
      ]
    },
    {
      "cell_type": "markdown",
      "source": [
        "4. Split the following string into a list by splitting on the space character?\n",
        "\n",
        "\n",
        "```\n",
        "s = \"MDS is going virtual!\"\n",
        "```\n",
        "\n"
      ],
      "metadata": {
        "id": "k7uxd44q-1PH"
      }
    },
    {
      "cell_type": "code",
      "source": [
        "s = \"MDS is giong virtual!\"\n",
        "s_list = s.split(\" \")\n",
        "s_list"
      ],
      "metadata": {
        "colab": {
          "base_uri": "https://localhost:8080/"
        },
        "id": "-89bpoLJ-vY7",
        "outputId": "7f029d7a-cb64-4063-bdfe-4b317d0803ae"
      },
      "execution_count": 6,
      "outputs": [
        {
          "output_type": "execute_result",
          "data": {
            "text/plain": [
              "['MDS', 'is', 'giong', 'virtual!']"
            ]
          },
          "metadata": {},
          "execution_count": 6
        }
      ]
    },
    {
      "cell_type": "markdown",
      "source": [
        "5. Given the following variables:\n",
        "\n",
        "```\n",
        "thing = \"light\"\n",
        "speed = 299792458 # m/s\n",
        "```\n",
        "\n",
        "Use the f-string to print\n",
        "```\n",
        "The speed of light is 2.997925e+08 m/s.\n",
        "``` "
      ],
      "metadata": {
        "id": "bzX4NoDZ_ikI"
      }
    },
    {
      "cell_type": "code",
      "source": [
        "thing = \"light\"\n",
        "speed = 299792458\n",
        "\n",
        "print(f\"The speed of {thing} is {speed:2e} m/s.\")"
      ],
      "metadata": {
        "colab": {
          "base_uri": "https://localhost:8080/"
        },
        "id": "mAZBsuSE_chE",
        "outputId": "505c782d-84ce-4362-ad23-72d347b6dbcb"
      },
      "execution_count": 9,
      "outputs": [
        {
          "output_type": "stream",
          "name": "stdout",
          "text": [
            "The speed of light is 2.997925e+08 m/s.\n"
          ]
        }
      ]
    },
    {
      "cell_type": "markdown",
      "source": [
        "6. Given this nested list, use indexing to grab the word \"MDS\":"
      ],
      "metadata": {
        "id": "aYk606JfA1Vh"
      }
    },
    {
      "cell_type": "code",
      "source": [
        "l = [10, [3, 4], [5, [100, 200, [\"MDS\"]], 23, 11], 1, 7]\n",
        "\n",
        "l[2][1][2][0]"
      ],
      "metadata": {
        "colab": {
          "base_uri": "https://localhost:8080/",
          "height": 35
        },
        "id": "TcOzqT4QAeg7",
        "outputId": "832694ef-fe36-4e65-92a7-f9cea3295dfa"
      },
      "execution_count": 12,
      "outputs": [
        {
          "output_type": "execute_result",
          "data": {
            "text/plain": [
              "'MDS'"
            ],
            "application/vnd.google.colaboratory.intrinsic+json": {
              "type": "string"
            }
          },
          "metadata": {},
          "execution_count": 12
        }
      ]
    },
    {
      "cell_type": "markdown",
      "source": [
        "7. Given this nest dictionary grab the word \"MDS\":"
      ],
      "metadata": {
        "id": "hPnKlJmLB2_j"
      }
    },
    {
      "cell_type": "code",
      "source": [
        "d = {\n",
        "    \"outer\": [\n",
        "        1,\n",
        "        2,\n",
        "        3,\n",
        "        {\"inner\": [\"this\", \"is\", \"inception\", {\"inner_inner\": [1, 2, 3, \"MDS\"]}]},\n",
        "    ]\n",
        "}\n",
        "\n",
        "d[\"outer\"][3][\"inner\"][3][\"inner_inner\"][3]"
      ],
      "metadata": {
        "colab": {
          "base_uri": "https://localhost:8080/",
          "height": 35
        },
        "id": "087QIz-ZBqWG",
        "outputId": "af215a44-64b6-4183-8e87-98dd41171429"
      },
      "execution_count": 22,
      "outputs": [
        {
          "output_type": "execute_result",
          "data": {
            "text/plain": [
              "'MDS'"
            ],
            "application/vnd.google.colaboratory.intrinsic+json": {
              "type": "string"
            }
          },
          "metadata": {},
          "execution_count": 22
        }
      ]
    },
    {
      "cell_type": "markdown",
      "source": [
        "8. Why does this following cell return an error?"
      ],
      "metadata": {
        "id": "s-79chFFDH4F"
      }
    },
    {
      "cell_type": "code",
      "source": [
        "t = (1,2,3,4,5)\n",
        "t[-1] = 6"
      ],
      "metadata": {
        "colab": {
          "base_uri": "https://localhost:8080/",
          "height": 183
        },
        "id": "5-A8F14XCZA_",
        "outputId": "0947fdff-b087-453b-d25a-96eed643a776"
      },
      "execution_count": 23,
      "outputs": [
        {
          "output_type": "error",
          "ename": "TypeError",
          "evalue": "ignored",
          "traceback": [
            "\u001b[0;31m---------------------------------------------------------------------------\u001b[0m",
            "\u001b[0;31mTypeError\u001b[0m                                 Traceback (most recent call last)",
            "\u001b[0;32m<ipython-input-23-82e41a94a302>\u001b[0m in \u001b[0;36m<module>\u001b[0;34m()\u001b[0m\n\u001b[1;32m      1\u001b[0m \u001b[0mt\u001b[0m \u001b[0;34m=\u001b[0m \u001b[0;34m(\u001b[0m\u001b[0;36m1\u001b[0m\u001b[0;34m,\u001b[0m\u001b[0;36m2\u001b[0m\u001b[0;34m,\u001b[0m\u001b[0;36m3\u001b[0m\u001b[0;34m,\u001b[0m\u001b[0;36m4\u001b[0m\u001b[0;34m,\u001b[0m\u001b[0;36m5\u001b[0m\u001b[0;34m)\u001b[0m\u001b[0;34m\u001b[0m\u001b[0;34m\u001b[0m\u001b[0m\n\u001b[0;32m----> 2\u001b[0;31m \u001b[0mt\u001b[0m\u001b[0;34m[\u001b[0m\u001b[0;34m-\u001b[0m\u001b[0;36m1\u001b[0m\u001b[0;34m]\u001b[0m \u001b[0;34m=\u001b[0m \u001b[0;36m6\u001b[0m\u001b[0;34m\u001b[0m\u001b[0;34m\u001b[0m\u001b[0m\n\u001b[0m",
            "\u001b[0;31mTypeError\u001b[0m: 'tuple' object does not support item assignment"
          ]
        }
      ]
    },
    {
      "cell_type": "markdown",
      "source": [
        "answer : because tuple is immutable"
      ],
      "metadata": {
        "id": "xoH6pPjuDUpc"
      }
    },
    {
      "cell_type": "markdown",
      "source": [
        "9. Use string methods to extract the website domain from email  e.g., from the string \"tomas.beuzen@fakemail.com\", you should extract \"fakemail\"."
      ],
      "metadata": {
        "id": "OtZP0FUsDkI0"
      }
    },
    {
      "cell_type": "code",
      "source": [
        "email = \"tomas.beuzen@fakemail.com\"\n",
        "\n",
        "extracted_email = email.split(\".\")[1].split(\"@\")[1]\n",
        "extracted_email"
      ],
      "metadata": {
        "colab": {
          "base_uri": "https://localhost:8080/",
          "height": 35
        },
        "id": "h_3IoBLnDTXg",
        "outputId": "301a7a59-af42-4efe-e26b-e86ca8d2136a"
      },
      "execution_count": 25,
      "outputs": [
        {
          "output_type": "execute_result",
          "data": {
            "text/plain": [
              "'fakemail'"
            ],
            "application/vnd.google.colaboratory.intrinsic+json": {
              "type": "string"
            }
          },
          "metadata": {},
          "execution_count": 25
        }
      ]
    },
    {
      "cell_type": "markdown",
      "source": [
        "10. Given the variable language which contains a string, use if/elif/else to write a program that:\n",
        "\n",
        "* return “I love snakes!” if language is \"python\" (any kind of capitalization)\n",
        "* return “Are you a pirate?” if language is \"R\" (any kind of capitalization)\n",
        "* else return “What is language?” if language is anything else."
      ],
      "metadata": {
        "id": "TpZnyYeZEO1C"
      }
    },
    {
      "cell_type": "code",
      "source": [
        "def check_languages(s):\n",
        "  if s.lower() == \"python\":\n",
        "    return \"I love snakes!\"\n",
        "  elif s.lower() == \"r\":\n",
        "    return \"Are you a pirate?\"\n",
        "  else:\n",
        "    return \"What is language?\"\n",
        "\n",
        "check_languages(\"Python\")"
      ],
      "metadata": {
        "colab": {
          "base_uri": "https://localhost:8080/",
          "height": 35
        },
        "id": "CcN_ReOpEBYC",
        "outputId": "3f4243c4-ddc2-459e-ad5e-0523ed5891ae"
      },
      "execution_count": 26,
      "outputs": [
        {
          "output_type": "execute_result",
          "data": {
            "text/plain": [
              "'I love snakes!'"
            ],
            "application/vnd.google.colaboratory.intrinsic+json": {
              "type": "string"
            }
          },
          "metadata": {},
          "execution_count": 26
        }
      ]
    },
    {
      "cell_type": "code",
      "source": [
        ""
      ],
      "metadata": {
        "id": "kWJd_mwUFBho"
      },
      "execution_count": null,
      "outputs": []
    }
  ]
}
